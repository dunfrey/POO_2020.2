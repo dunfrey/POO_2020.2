{
 "cells": [
  {
   "cell_type": "markdown",
   "metadata": {},
   "source": [
    "# Aula 3 - Classes, Objetos e Abstração\n",
    "\n",
    "Neste documento serão apresentados os comandos Python para se trabalhar com classes."
   ]
  },
  {
   "cell_type": "markdown",
   "metadata": {},
   "source": [
    "Ao implementar uma classe, devemos definir: \n",
    " * **Atributos**: características de cada objeto que devemos armazenar. Também chamados de membros. \n",
    " * Um **inicializador**: método especial para inicializar os atributos.\n",
    " * **Métodos**: funções que determinam o comportamento da classe.\n",
    " \n",
    "Depois que a classe está definida, podemos instanciar/criar objetos da classe."
   ]
  },
  {
   "cell_type": "markdown",
   "metadata": {},
   "source": [
    "## 1. Inicializadores e atributos\n",
    "\n",
    "A sintaxe a seguir mostra como definir uma classe em Python."
   ]
  },
  {
   "cell_type": "code",
   "execution_count": 4,
   "metadata": {},
   "outputs": [],
   "source": [
    "class Ponto2D:\n",
    "    '''Representação de uma coordenada no plano cartesiano'''\n",
    "    \n",
    "    def __init__(self, x, y):\n",
    "        '''Inicialização das coordenadas x e y'''\n",
    "        self.x = x\n",
    "        self.y = y"
   ]
  },
  {
   "cell_type": "markdown",
   "metadata": {},
   "source": [
    "- `__init__` é o inicializador da classe (parecido com o construtor de outras linguagens)\n",
    "\n",
    "- Chamado automaticamente quando um objeto da classe é criado\n",
    "\n",
    "- `self` é a referência ao próprio objeto criado\n",
    "  - É um nome utilizado para acessar os valores dos atributos dentro da classe\n",
    "  - É sempre o primeiro parâmetro\n",
    "  - Referência explícita (em outras linguagens a referência é implícita\n",
    "  - Similar ao `this` do Java/C++\n",
    "\n",
    "- `self.x` e `self.y` são os 2 atributos (características) da classe\n",
    "  - Todos os atributos da classe devem ser declarados no inicializador"
   ]
  },
  {
   "cell_type": "markdown",
   "metadata": {},
   "source": [
    "## 2. Criando objetos\n",
    "\n",
    "Uma vez que a classe foi definida, podemos criar objetos (instâncias) desta classe. Para compreender melhor estes conceitos, lembre-se que um objeto está para a sua classe assim como uma variável está para o seu tipo."
   ]
  },
  {
   "cell_type": "code",
   "execution_count": 5,
   "metadata": {},
   "outputs": [
    {
     "name": "stdout",
     "output_type": "stream",
     "text": [
      "3\n",
      "2\n"
     ]
    }
   ],
   "source": [
    "P1 = Ponto2D(3,2) # P1 é um objeto do tipo Ponto2D\n",
    "# internamente Python chama a __init__ com parâmetros 3 e 2\n",
    "print(P1.x) # acessa os atributos\n",
    "print(P1.y)"
   ]
  },
  {
   "cell_type": "markdown",
   "metadata": {},
   "source": [
    "## 3. Definindo os métodos de uma classe\n",
    "\n",
    "O comportamento de uma classe é determinado quando os seus métodos são programados. Um método nada mais é do que uma função dentro do escopo de uma classe. Este deve ser executado/chamado/invocado através de objetos da classe.\n",
    "\n",
    "### Exemplo: classe `Ponto2D`"
   ]
  },
  {
   "cell_type": "code",
   "execution_count": 6,
   "metadata": {},
   "outputs": [
    {
     "name": "stdout",
     "output_type": "stream",
     "text": [
      "Ponto2D(3,2)\n"
     ]
    }
   ],
   "source": [
    "class Ponto2D:\n",
    "    '''Representação de uma coordenada no plano cartesiano'''\n",
    "    \n",
    "    def __init__(self, x, y):\n",
    "        '''Inicialização das coordenadas x e y'''\n",
    "        self.x = x\n",
    "        self.y = y\n",
    "        \n",
    "    def imprime(self):\n",
    "        '''Imprime um texto com informações do ponto'''\n",
    "        print('Ponto2D({},{})'.format(self.x, self.y))\n",
    "\n",
    "# A partir deste ponto, o código está fora do escopo da classe\n",
    "P1 = Ponto2D(3,2)\n",
    "P1.imprime()"
   ]
  },
  {
   "cell_type": "markdown",
   "metadata": {},
   "source": [
    "A linguagem Python possui uma série de métodos mágicos, também conhecidos como \"dunders\" (*double underscores*), que começam e terminam com `__` (dois underscores). O `__init__` é um exemplo de método mágico.\n",
    "\n",
    "Existe também um método mágico para converter um objeto em uma string, como mostrado a seguir."
   ]
  },
  {
   "cell_type": "code",
   "execution_count": 1,
   "metadata": {},
   "outputs": [
    {
     "name": "stdout",
     "output_type": "stream",
     "text": [
      "Ponto2D(-10,-10)\n",
      "Ponto2D(-10,-10)\n",
      "Ponto2D(-10,-10)\n"
     ]
    }
   ],
   "source": [
    "class Ponto2D:\n",
    "    '''Representação de uma coordenada no plano cartesiano'''\n",
    "    \n",
    "    def __init__(self, x, y):\n",
    "        '''Inicialização das coordenadas x e y'''\n",
    "        self.x = x\n",
    "        self.y = y\n",
    "    \n",
    "    #método mágico (\"dunder\")\n",
    "    def __str__(self):\n",
    "        '''Retorna uma representação em formato string de um Ponto2D'''\n",
    "        return 'Ponto2D({},{})'.format(self.x, self.y)\n",
    "        \n",
    "P1 = Ponto2D(-10,-10)\n",
    "s = str(P1) #string recebe o resultado da conversão\n",
    "print(s) #imprime string\n",
    "print(P1.__str__()) #faz o mesmo que acima (quase nunca utilizada)\n",
    "print(P1) #melhor forma de imprimir um objeto"
   ]
  },
  {
   "cell_type": "markdown",
   "metadata": {},
   "source": [
    "Nada impede dos métodos receberem outras instâncias da mesma classe (ou de outras classes) como parâmetros. Por exemplo, pode ser interessante para a classe `Ponto2D` ter um método `distancia` implementado que calcula a distância Euclidiana em relação a um outro ponto passado como parâmetro:"
   ]
  },
  {
   "cell_type": "code",
   "execution_count": 12,
   "metadata": {},
   "outputs": [
    {
     "name": "stdout",
     "output_type": "stream",
     "text": [
      "Distância entre P1 e P2: 2.0\n"
     ]
    }
   ],
   "source": [
    "import math #necessário para a função sqrt\n",
    "\n",
    "class Ponto2D:\n",
    "    '''Representação de uma coordenada no plano cartesiano'''\n",
    "    \n",
    "    def __init__(self, x, y):\n",
    "        '''Inicialização das coordenadas x e y'''\n",
    "        self.x = x\n",
    "        self.y = y\n",
    "        \n",
    "    def __str__(self):\n",
    "        '''Retorna uma representação em formato string de um Ponto2D'''\n",
    "        return 'Ponto2D({},{})'.format(self.x, self.y)\n",
    "    \n",
    "    def distancia(self, outro):\n",
    "        '''Calcula a distância Euclidiana entre self e outro'''\n",
    "        return math.sqrt((self.x - outro.x)**2 + (self.y - outro.y)**2)\n",
    "\n",
    "P1 = Ponto2D(1,2)\n",
    "P2 = Ponto2D(0,0)\n",
    "d = P1.distancia(P2) # chama o método passando P2 como parâmetro (P1 == self)\n",
    "print('Distância entre P1 e P2: {}'.format(d))"
   ]
  },
  {
   "cell_type": "markdown",
   "metadata": {},
   "source": [
    "### Exemplo: classe `Circulo`\n",
    "\n",
    "Em programação orientada a objetos é possível utilizar objetos como atributos das classes sendo construídas.\n",
    "\n",
    "Um possível exemplo é a classe `Circulo`, que tem como atributos o seu raio e o seu centro. Este último é um objeto da classe `Ponto2D`. Observe o código a seguir."
   ]
  },
  {
   "cell_type": "code",
   "execution_count": 6,
   "metadata": {},
   "outputs": [
    {
     "name": "stdout",
     "output_type": "stream",
     "text": [
      "Circulo(Ponto2D(0,0), 5)\n",
      "Area de c1: 78.5398163397\n",
      "5.0\n",
      "Circulo(Ponto2D(4,10), 5)\n",
      "Help on instance of Circulo in module __main__:\n",
      "\n",
      "class Circulo\n",
      " |  Representação de um círculo\n",
      " |  \n",
      " |  Methods defined here:\n",
      " |  \n",
      " |  __init__(self, centro, raio)\n",
      " |      Centro (x,y) e raio do círculo\n",
      " |  \n",
      " |  __str__(self)\n",
      " |      Retorna uma representação em formato string de um Circulo\n",
      " |  \n",
      " |  area(self)\n",
      " |      Calcula a área do círculo\n",
      " |  \n",
      " |  moveCentro(self, novoX, novoY)\n",
      " |      Move o centro do círculo\n",
      "\n"
     ]
    }
   ],
   "source": [
    "import math\n",
    "\n",
    "class Ponto2D:\n",
    "    '''Representação de uma coordenada no plano cartesiano'''\n",
    "    \n",
    "    def __init__(self, x, y):\n",
    "        '''Inicialização das coordenadas x e y'''\n",
    "        self.x = x\n",
    "        self.y = y\n",
    "        \n",
    "    def __str__(self):\n",
    "        '''Retorna uma representação em formato string de um Ponto2D'''\n",
    "        return 'Ponto2D({},{})'.format(self.x, self.y)\n",
    "    \n",
    "    def distancia(self, outro):\n",
    "        '''Calcula a distância Euclidiana entre self e outro'''\n",
    "        return math.sqrt((self.x - outro.x)**2 + (self.y - outro.y)**2)\n",
    "        \n",
    "class Circulo:\n",
    "    '''Representação de um círculo'''\n",
    "    \n",
    "    def __init__(self, centro, raio):\n",
    "        '''Centro (x,y) e raio do círculo'''\n",
    "        self.centro = centro\n",
    "        self.raio = raio\n",
    "    \n",
    "    def moveCentro(self, novoX, novoY):\n",
    "        '''Move o centro do círculo'''\n",
    "        self.centro = Ponto2D(novoX, novoY)\n",
    "        \n",
    "    def area(self):\n",
    "        '''Calcula a área do círculo'''\n",
    "        return math.pi*(self.raio** 2)\n",
    "    \n",
    "    def __str__(self):\n",
    "        '''Retorna uma representação em formato string de um Circulo'''\n",
    "        return 'Circulo({}, {})'.format(self.centro, self.raio)\n",
    "\n",
    "#Podemos criar objetos da classe Circulo\n",
    "c1 = Circulo(Ponto2D(0,0), 5)\n",
    "c2 = Circulo(Ponto2D(3,4), 10)\n",
    "print(c1) #Conversão automática para str\n",
    "print('Area de c1: {}'.format(c1.area()))\n",
    "\n",
    "#Calcula a distancia entre dois circulos\n",
    "print(c1.centro.distancia(c2.centro))\n",
    "\n",
    "#Move o círculo para uma nova posição\n",
    "c1.moveCentro(4,10)\n",
    "print(c1)\n",
    "\n",
    "#Sempre devemos documentar!\n",
    "help(c1)"
   ]
  },
  {
   "cell_type": "markdown",
   "metadata": {},
   "source": [
    "## 4. Função Main\n",
    "Em Python, não é necessário definir a função `main` (ver exemplos acima). Porém, existem vantagens em escrever essa função como a seguir."
   ]
  },
  {
   "cell_type": "code",
   "execution_count": 9,
   "metadata": {},
   "outputs": [
    {
     "name": "stdout",
     "output_type": "stream",
     "text": [
      "314.159265359\n"
     ]
    }
   ],
   "source": [
    "def main():\n",
    "    '''Função principal'''\n",
    "    C = Circulo(Ponto2D(3,2),10)\n",
    "    print(C.area())\n",
    "\n",
    "# executar a função principal\n",
    "if __name__ == \"__main__\":\n",
    "    main()"
   ]
  },
  {
   "cell_type": "markdown",
   "metadata": {},
   "source": [
    "O significado de `__name__ == \"__main__\"` vai ficar claro na aula de Módulos. Por enquanto, podemos dizer que o `if` está verificando se nosso programa está rodando no escopo principal (`__main___`) e não como um Módulo. Por enquanto, podemos ignorar esse `if` e o resultado é o mesmo."
   ]
  },
  {
   "cell_type": "code",
   "execution_count": 10,
   "metadata": {},
   "outputs": [
    {
     "name": "stdout",
     "output_type": "stream",
     "text": [
      "314.159265359\n"
     ]
    }
   ],
   "source": [
    "main() #Chamando a função main"
   ]
  },
  {
   "cell_type": "markdown",
   "metadata": {},
   "source": [
    "## 5. Detalhes\n",
    "\n",
    "### Chamada de método em Python\n",
    "\n",
    "Existe uma alternativa de chamada de método em Python, que fará mais sentido algumas aulas à frente. Na chamada `C.area()`, da implementação da classe `Circulo`, o que a linguagem faz é \"traduzir\" esta chamada para `Circulo.area(C)`. Ou seja, `area` pode ser vista como uma função do módulo/biblioteca `Circulo` para a qual está sendo passado o parâmetro `C`.\n"
   ]
  },
  {
   "cell_type": "code",
   "execution_count": 7,
   "metadata": {},
   "outputs": [
    {
     "name": "stdout",
     "output_type": "stream",
     "text": [
      "3.14159265359\n",
      "3.14159265359\n"
     ]
    }
   ],
   "source": [
    "C = Circulo(Ponto2D(0,0), 1)\n",
    "print(C.area()) # Forma comum de chamar um método da classe\n",
    "print(Circulo.area(C)) #Forma alternativa (quase nunca utilizada)"
   ]
  },
  {
   "cell_type": "markdown",
   "metadata": {},
   "source": [
    "### Python como linguagem dinâmica\n",
    "\n",
    "Python é uma linguagem dinamicamente tipada. De uma forma curta, o tipo (classe) das variáveis (objetos) é determinado com o programa em execução e não no momento da compilação (como acontece com C++). Além disso, é possível modificar os tipos/classes já definidos.\n",
    "\n",
    "Isto pode causar confusão. Observe o exemplo a seguir e veja como a linguagem se comporta com a criação dinâmica de atributos. Obviamente, esta forma de se trabalhar com a linguagem está incorreta e consta neste documento para que você entenda o funcionamento da linguagem com maior clareza."
   ]
  },
  {
   "cell_type": "code",
   "execution_count": 24,
   "metadata": {},
   "outputs": [
    {
     "name": "stdout",
     "output_type": "stream",
     "text": [
      "Ponto2D(0,0)\n",
      "vermelho\n"
     ]
    }
   ],
   "source": [
    "class Ponto2D:\n",
    "    '''Representação de uma coordenada no plano cartesiano'''\n",
    "    \n",
    "    def __init__(self, x, y):\n",
    "        '''Inicialização das coordenadas x e y'''\n",
    "        self.x = x\n",
    "        self.y = y\n",
    "        \n",
    "    def __str__(self):\n",
    "        '''Retorna uma representação em formato string de um Ponto2D'''\n",
    "        return 'Ponto2D({},{})'.format(self.x, self.y)\n",
    "\n",
    "# Separação do programa que usa as classes das definições das classes\n",
    "if __name__ == \"__main__\":\n",
    "    p1 = Ponto2D(0, 0)\n",
    "    print(p1)\n",
    "    p1.cor = 'vermelho' #novo atributo criado dinamicamente; observe que ele não está na definição da classe\n",
    "    print(p1.cor)\n",
    "    p2 = Ponto2D(1, 1)\n",
    "    #print(p2.cor) #erro! o objeto p2 não possui o atributo cor"
   ]
  },
  {
   "cell_type": "markdown",
   "metadata": {},
   "source": [
    "## Prática 1: Números complexos\n",
    "\n",
    "Implemente a classe `Complexo` para representar um número complexo.\n",
    "Um número complexo é um número $Z = a + bi$, no qual $a$ é a sua parte real, $b$ é a sua parte imaginária e $i$ é $\\sqrt{-1}$.\n",
    "\n",
    "Sua classe deve oferecer os seguintes métodos:\n",
    " - `reset`: atribui 0.0 à parte real e à parte imaginaria.\n",
    " - `__str__`: converte o número complexo em uma string\n",
    " - `soma`: retorna um número complexo dado pela soma do próprio objeto com outro. A soma de um número complexo $Z_1 = a_1 + b_1i$ com outro $Z_2 = a_2 + b_2i$ é igual a $Z_3 = (a_1 + a_2) + (b_1 + b_2)i$.\n",
    " - `modulo`: retorna o módulo do número complexo, dado por $\\sqrt{a^2 + b^2}$\n",
    "\n",
    "Utilize o código a seguir como ponto de partida."
   ]
  },
  {
   "cell_type": "code",
   "execution_count": 23,
   "metadata": {},
   "outputs": [
    {
     "name": "stdout",
     "output_type": "stream",
     "text": [
      "Modulo de c1: 5.0\n",
      "3.0 + 4.0i\n",
      "2.0 + -2.0i\n",
      "5.0 + 2.0i\n"
     ]
    }
   ],
   "source": [
    "import math\n",
    "\n",
    "class Complexo:\n",
    "    '''Representa um numero complexo.'''\n",
    "    pass #utilizado para denotar um bloco vazio\n",
    "    #remova o pass e insira a sua implementação\n",
    "    \n",
    "if __name__ == \"__main__\":\n",
    "    c1 = Complexo(3.0, 4.0)\n",
    "    print('Modulo de c1: {}'.format(c1.modulo()))\n",
    "    print(c1)\n",
    "    c1.reset()\n",
    "    c1.re = 3.0\n",
    "    c1.im = 4.0\n",
    "    c2 = Complexo(2.0, -2.0)\n",
    "    print(c2)\n",
    "    c3 = c1.soma(c2)\n",
    "    print(c3)"
   ]
  },
  {
   "cell_type": "markdown",
   "metadata": {},
   "source": [
    "## Exercício para fixação: Pessoas\n",
    "\n",
    "Defina a classe `Pessoa` com os seguintes atributos:\n",
    " * nome\n",
    " * data de nascimento \n",
    "\n",
    "A classe deve possuir os seguintes métodos:\n",
    "-  `__str__`, que deve imprimir o objeto da classe `Pessoa` no formato `nome (dd/mm/aaaa)\n",
    "- anivMes: dado um inteiro `1 <= n <= 12`, retorna verdadeiro se o aniversário da pessoa cai no mês `n` ou falso caso contrário. \n",
    "- maisnovo: dada outra pessoa `P`, retorna verdadeiro se `P` é mais novo que o objeto que chamou o método ou falso caso contrário.\n",
    "- seApresenta: retorna a string `\"Ola, meu nome é XXXX e nasci no ano YYYY\"`\n",
    "- cumprimenta: recebe como parâmetro outra pessoa e retorna a string `\"Ola ZZZZ, meu nome é NNNN\"`\n",
    "\n",
    "Implemente também o módulo main para testar o seu código."
   ]
  }
 ],
 "metadata": {
  "kernelspec": {
   "display_name": "Python 3",
   "language": "python",
   "name": "python3"
  },
  "language_info": {
   "codemirror_mode": {
    "name": "ipython",
    "version": 2
   },
   "file_extension": ".py",
   "mimetype": "text/x-python",
   "name": "python",
   "nbconvert_exporter": "python",
   "pygments_lexer": "ipython2",
   "version": "2.7.12"
  }
 },
 "nbformat": 4,
 "nbformat_minor": 4
}
