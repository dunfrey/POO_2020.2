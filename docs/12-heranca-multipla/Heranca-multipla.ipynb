{
 "cells": [
  {
   "cell_type": "markdown",
   "metadata": {},
   "source": [
    "# Herança Múltipla\n"
   ]
  },
  {
   "cell_type": "code",
   "execution_count": null,
   "metadata": {},
   "outputs": [],
   "source": [
    "class Superclasse1:\n",
    "    def __init__(self, valor):\n",
    "        self.atrib_super1 = valor\n",
    "\n",
    "    def metodo_super1(self):\n",
    "        print('Metodo super1')\n",
    "\n",
    "class Superclasse2:\n",
    "    def __init__(self, valor):\n",
    "        self.atrib_super2 = valor\n",
    "\n",
    "    def metodo_super2(self):\n",
    "        print('Metodo super2')\n",
    "\n",
    "class Subclasse(Superclasse1, Superclasse2):\n",
    "    def __init__(self, valor):\n",
    "        Superclasse1.__init__(self, 0) # atribui 0 a atrib_super1\n",
    "        Superclasse2.__init__(self, 1) # atribui 1 a atrib_super2\n",
    "        self.atrib_sub = valor\n",
    "\n",
    "    def metodo_sub(self):\n",
    "        print('Metodo sub')\n",
    "\n",
    "if __name__ == \"__main__\":\n",
    "    obj = Subclasse(50)\n",
    "    print(obj.atrib_super1)\n",
    "    print(obj.atrib_super2)\n",
    "    print(obj.atrib_sub)\n",
    "    obj.metodo_super1()\n",
    "    obj.metodo_super2()\n",
    "    obj.metodo_sub()"
   ]
  },
  {
   "cell_type": "markdown",
   "metadata": {},
   "source": [
    "\n",
    "## Atributos e Métodos com o Mesmo Nome\n",
    "\n",
    "Considere o código a seguir:"
   ]
  },
  {
   "cell_type": "code",
   "execution_count": null,
   "metadata": {},
   "outputs": [],
   "source": [
    "class Superclasse1:\n",
    "    def __init__(self, valor):\n",
    "        print('Inicializador de super1')\n",
    "        self.atrib_super = valor\n",
    "\n",
    "    def metodo_super(self):\n",
    "        print('Metodo super de Superclasse1')\n",
    "\n",
    "class Superclasse2:\n",
    "    def __init__(self, valor):\n",
    "        print('Inicializador de super2')\n",
    "        self.atrib_super = valor\n",
    "\n",
    "    def metodo_super(self):\n",
    "        print('Metodo super de Superclasse2')\n",
    "\n",
    "class Subclasse(Superclasse2, Superclasse1):\n",
    "    def __init__(self, valor):\n",
    "        Superclasse2.__init__(self, 1) # atribui 1 a atrib_super de Super2\n",
    "        Superclasse1.__init__(self, 0) # atribui 0 a atrib_super de Super1\n",
    "        self.atrib_sub = valor\n",
    "\n",
    "    def metodo_sub(self):\n",
    "        print('Metodo sub')\n",
    "\n",
    "if __name__ == \"__main__\":\n",
    "    obj = Subclasse(50)\n",
    "    print(obj.atrib_super) # qual atrib_super e utilizado?\n",
    "    obj.metodo_super() # qual metodo_super e chamado?"
   ]
  },
  {
   "cell_type": "markdown",
   "metadata": {},
   "source": [
    "Note que  as classes ```Superclasse1``` e ```Superclasse2``` possuem\n",
    "um atributo e um método com o mesmo nome:\n",
    "\n",
    "- O método implementado em ```Subclasse``` depende da ordem indicada\n",
    "  na tupla de classes base:\n",
    "    - A linguagem Python considera a primeira superclasse da esquerda para a direita\n",
    "    - A implementação do método que for achada primeiro é utilizada\n",
    "    - Caso uma implementação do método não seja achada em nenhuma das classes base,\n",
    "      a busca é realizada recursivamente nas classes base das classes base\n",
    "- Em relação aos atributos:\n",
    "    - Como o ```__init__``` de cada superclasse foi chamado no ```__init__```\n",
    "      da subclasse, o atributo considerado é o último encontrado (e não o primeiro)\n",
    "          - Cada chamada de ```__init__``` sobrescreve a declaração anterior\n",
    "          - Portanto, o que vale é o último que sobrescreve"
   ]
  },
  {
   "cell_type": "markdown",
   "metadata": {},
   "source": []
  },
  {
   "cell_type": "markdown",
   "metadata": {},
   "source": [
    "## Um problema comum com atributos"
   ]
  },
  {
   "cell_type": "code",
   "execution_count": null,
   "metadata": {},
   "outputs": [],
   "source": [
    "class A:\n",
    "    def __init__(self): \n",
    "        self.x = 0\n",
    "\n",
    "    def m1(self): \n",
    "        return self.x + 1\n",
    "\n",
    "class B:\n",
    "    def __init__(self): \n",
    "        self.x = []\n",
    "\n",
    "class C(A,B):\n",
    "    def __init__(self):\n",
    "        A.__init__(self)\n",
    "        B.__init__(self)\n",
    "\n",
    "c = C()\n",
    "print(c.m1()) #Funciona ?  qual é o problema?"
   ]
  },
  {
   "cell_type": "markdown",
   "metadata": {},
   "source": [
    "## O problema do Diamante \n",
    "\n",
    "Ao utilizar herança múltipla, problemas podem ocorrer com a seguinte\n",
    "hierarquia:\n",
    "\n",
    "![Diamante](diamante.png)\n",
    "\n",
    "Por exemplo, \n",
    "1. Todas as classes implementam um método chamado ```metodo```. Qual versão de ```metodo``` será chamada para objetos da classe ```D```?"
   ]
  },
  {
   "cell_type": "code",
   "execution_count": null,
   "metadata": {},
   "outputs": [],
   "source": [
    "class A:\n",
    "    def metodo(self):\n",
    "        print('Metodo de A')\n",
    "\n",
    "class B(A):\n",
    "    def metodo(self):\n",
    "        print('Metodo de B')\n",
    "\n",
    "class C(A):\n",
    "    def metodo(self):\n",
    "        print('Metodo de C')\n",
    "\n",
    "class D(B,C):\n",
    "    def metodo(self):\n",
    "        print('Metodo de D')\n",
    "\n",
    "if __name__ == \"__main__\":\n",
    "    a = A()\n",
    "    b = B()\n",
    "    c = C()\n",
    "    d = D()\n",
    "\n",
    "    a.metodo()\n",
    "    b.metodo()\n",
    "    c.metodo()\n",
    "    d.metodo()"
   ]
  },
  {
   "cell_type": "markdown",
   "metadata": {},
   "source": [
    "2. ```D``` apenas herda ```metodo``` (```metodo``` não é sobrescrito).\n",
    "   Qual versão de ```metodo``` será chamada para objetos da classe ```D```?"
   ]
  },
  {
   "cell_type": "code",
   "execution_count": null,
   "metadata": {},
   "outputs": [],
   "source": [
    "class A:\n",
    "    def metodo(self):\n",
    "        print('Metodo de A')\n",
    "\n",
    "class B(A):\n",
    "    def metodo(self):\n",
    "        print('Metodo de B')\n",
    "\n",
    "class C(A):\n",
    "    def metodo(self):\n",
    "        print('Metodo de C')\n",
    "\n",
    "class D(B,C):\n",
    "    pass\n",
    "if __name__ == \"__main__\":\n",
    "    a = A()\n",
    "    b = B()\n",
    "    c = C()\n",
    "    d = D()\n",
    "\n",
    "    a.metodo()\n",
    "    b.metodo()\n",
    "    c.metodo()\n",
    "    d.metodo()"
   ]
  },
  {
   "cell_type": "markdown",
   "metadata": {},
   "source": [
    "3. Tanto ```D``` quanto ```B``` apenas herda ```metodo```.\n",
    "   Qual versão de ```metodo``` será chamada para objetos da classe ```D```?"
   ]
  },
  {
   "cell_type": "code",
   "execution_count": null,
   "metadata": {},
   "outputs": [],
   "source": [
    "class A:\n",
    "    def metodo(self):\n",
    "        print('Metodo de A')\n",
    "\n",
    "class B(A):\n",
    "    pass\n",
    "\n",
    "class C(A):\n",
    "    pass\n",
    "\n",
    "class D(B,C):\n",
    "    pass\n",
    "\n",
    "if __name__ == \"__main__\":\n",
    "    a = A()\n",
    "    b = B()\n",
    "    c = C()\n",
    "    d = D()\n",
    "\n",
    "    a.metodo()\n",
    "    b.metodo()\n",
    "    c.metodo()\n",
    "    d.metodo()"
   ]
  },
  {
   "cell_type": "markdown",
   "metadata": {},
   "source": [
    "\n",
    "## Exercício\n",
    "\n",
    "1. Implemente o sistema orientado a objetos que representa um Relogio-Calendário"
   ]
  },
  {
   "cell_type": "code",
   "execution_count": 1,
   "metadata": {},
   "outputs": [
    {
     "name": "stdout",
     "output_type": "stream",
     "text": [
      "23:59:59\n",
      "00:00:00\n"
     ]
    }
   ],
   "source": [
    "class Relogio():\n",
    "\n",
    "    def __init__(self, horas, minutos, segundos):\n",
    "        self.set_hora(horas, minutos, segundos)\n",
    "\n",
    "    def set_hora(self, horas, minutos, segundos):\n",
    "        \"\"\"\n",
    "        atributo hora vai de 0 a 24\n",
    "        atributos minutos e segundos vão de 0 a 60\n",
    "        \"\"\"        \n",
    "        #print(\"Atributo horas deve ser um valor inteiro entre 0 e 23\")\n",
    "        #print(\"Atributo minutos deve ser um valor inteiro entre 0 e 59\")\n",
    "        #print(\"Atributo segundos deve ser um valor inteiro entre 0 e 59\")\n",
    "        pass\n",
    "\n",
    "    def __str__(self):\n",
    "        return \"{0:02d}:{1:02d}:{2:02d}\".format(self._horas,\n",
    "                                                self.__minutos,\n",
    "                                                self.__segundos)\n",
    "\n",
    "    def marca_segundo(self):\n",
    "        \"\"\"\n",
    "        Marca um segundo de tempo no relogio\n",
    "        TICK-TACK\n",
    "        \"\"\"\n",
    "        pass\n",
    "\n",
    "\n",
    "if __name__ == \"__main__\":\n",
    "    r = Relogio(23,59,59)\n",
    "    print(r)\n",
    "    r.marca_segundo()\n",
    "    print(r)"
   ]
  },
  {
   "cell_type": "code",
   "execution_count": 2,
   "metadata": {},
   "outputs": [
    {
     "name": "stdout",
     "output_type": "stream",
     "text": [
      "31/12/2012 - Ao avancar um dia vamos para a data:  01/01/2013\n",
      "2012 é ano Bissexo:\n",
      "28/02/2012 - Ao avancar um dia vamos para a data:  29/02/2012\n",
      "28/02/2013 - Ao avancar um dia vamos para a data:  01/03/2013\n",
      "1900 não é ano Bissexo. O número é divisivel por 100 mas não por 400: \n",
      "28/02/1900 - Ao avancar um dia vamos para a data:  01/03/1900\n",
      "2000 foi um é ano Bissexo. O número é divisivel por 400: \n",
      "28/02/2000 - Ao avancar um dia vamos para a data:  29/02/2000\n"
     ]
    }
   ],
   "source": [
    "class Calendario():\n",
    "\n",
    "    ultimo_dia_mes = (31,28,31,30,31,30,31,31,30,31,30,31)\n",
    "\n",
    "    @staticmethod\n",
    "    def ehBissexo(ano):\n",
    "        \"\"\" \n",
    "        O metodo retorna True se o parametro ano é ano bissexto, False caso contrario\n",
    "        \"\"\"\n",
    "        # para ser ano bissexto:\n",
    "        #     é ano % 4 == 0\n",
    "        # nao é ano % 100 == 0\n",
    "        # nao é ano % 400 == 0\n",
    "\n",
    "\n",
    "    def __init__(self, dia, mes, ano):\n",
    "        self.set_data(dia, mes, ano)\n",
    "\n",
    "\n",
    "    def set_data(self, dia, mes, ano):\n",
    "        \"\"\"\n",
    "        dia, mes e ano precisam ser numeros inteiros\n",
    "        o ano é formado por quatro digitos\n",
    "        \"\"\"\n",
    "\n",
    "        if type(dia) == int and type(mes) == int and type(ano) == int:\n",
    "            self.__dias = dia\n",
    "            self.__meses = mes\n",
    "            self.__anos = ano\n",
    "        else:\n",
    "            print(\"dia, mes e ano precisam ser numeros inteiros!\")\n",
    "\n",
    "\n",
    "    def __str__(self):\n",
    "        return \"{0:02d}/{1:02d}/{2:4d}\".format(self.__dias,\n",
    "                                               self.__meses,\n",
    "                                               self.__anos)\n",
    "\n",
    "\n",
    "\n",
    "    def avanca_dia(self):\n",
    "        \"\"\"\n",
    "        Avancar um dia.\n",
    "        \"\"\"\n",
    "        #verifique qual o ultimo dia do mes\n",
    "        #verifique se mes de fevereiro é bissexto\n",
    "        #se o dia é o ultimo do mes atual, dia tem valor 1\n",
    "        #se o dia é o ultimo do ano, mes tem valor 1 e ano += 1\n",
    "        #para todos os outros casos apenas dia é incrementado\n",
    "\n",
    "\n",
    "if __name__ == \"__main__\":\n",
    "    c = Calendario(31,12,2012)\n",
    "    print(c, end=\" \")\n",
    "    c.avanca_dia()\n",
    "    print(\"- Ao avancar um dia vamos para a data: \", c)\n",
    "    print(\"2012 é ano Bissexo:\")\n",
    "    c = Calendario(28,2,2012)\n",
    "    print(c, end=\" \")\n",
    "    c.avanca_dia()\n",
    "    print(\"- Ao avancar um dia vamos para a data: \", c)\n",
    "    c = Calendario(28,2,2013)\n",
    "    print(c, end=\" \")\n",
    "    c.avanca_dia()\n",
    "    print(\"- Ao avancar um dia vamos para a data: \", c)\n",
    "    print(\"1900 não é ano Bissexo. O número é divisivel por 100 mas não por 400: \")\n",
    "    c = Calendario(28,2,1900)\n",
    "    print(c, end=\" \")\n",
    "    c.avanca_dia()\n",
    "    print(\"- Ao avancar um dia vamos para a data: \", c)\n",
    "    print(\"2000 foi um é ano Bissexo. O número é divisivel por 400: \")\n",
    "    c = Calendario(28,2,2000)\n",
    "    print(c, end=\" \")\n",
    "    c.avanca_dia()\n",
    "    print(\"- Ao avancar um dia vamos para a data: \", c)"
   ]
  },
  {
   "cell_type": "code",
   "execution_count": 5,
   "metadata": {},
   "outputs": [
    {
     "name": "stdout",
     "output_type": "stream",
     "text": [
      "Passou um segundo de 31/12/2013, 23:59:59 para 01/01/2014, 00:00:00\n",
      "Passou um segundo de 07/02/2013, 13:55:40 para 07/02/2013, 13:55:41\n"
     ]
    }
   ],
   "source": [
    "class CalendarioRelogio():\n",
    "\n",
    "\n",
    "\n",
    "if __name__ == \"__main__\":\n",
    "    cr = CalendarioRelogio(31, 12, 2013, 23, 59, 59)\n",
    "    print(\"Passou um segundo de\",cr, end=\" \")\n",
    "    cr.marca_segundo()\n",
    "    print(\"para\", cr)\n",
    "\n",
    "    cr = CalendarioRelogio(7, 2, 2013, 13, 55, 40)\n",
    "    print(\"Passou um segundo de\",cr, end=\" \")\n",
    "    cr.marca_segundo()\n",
    "    print(\"para\", cr)"
   ]
  },
  {
   "cell_type": "code",
   "execution_count": null,
   "metadata": {},
   "outputs": [],
   "source": []
  }
 ],
 "metadata": {
  "kernelspec": {
   "display_name": "Python 3",
   "language": "python",
   "name": "python3"
  },
  "language_info": {
   "codemirror_mode": {
    "name": "ipython",
    "version": 3
   },
   "file_extension": ".py",
   "mimetype": "text/x-python",
   "name": "python",
   "nbconvert_exporter": "python",
   "pygments_lexer": "ipython3",
   "version": "3.8.5"
  }
 },
 "nbformat": 4,
 "nbformat_minor": 4
}
