{
 "cells": [
  {
   "cell_type": "markdown",
   "metadata": {},
   "source": [
    "# Aula 8 - Atributos/métodos de Classe e Herança\n",
    "\n",
    "Neste documento é apresentado como se trabalhar em Python com:\n",
    "- Atributos/métodos de classe\n",
    "- Herança"
   ]
  },
  {
   "cell_type": "markdown",
   "metadata": {},
   "source": [
    "### Exemplo 1\n",
    "Considere a classe Cachorro que deve armazenar o nome do animal. Além disso, sabemos que todo cachorro tem 4 patas."
   ]
  },
  {
   "cell_type": "code",
   "execution_count": 1,
   "metadata": {},
   "outputs": [
    {
     "name": "stdout",
     "output_type": "stream",
     "text": [
      "Cachorro('Fifi', 4) Cachorro('Firulais', 4)\n",
      "Cachorro('Fifi', 3) Cachorro('Firulais', 4)\n"
     ]
    }
   ],
   "source": [
    "#Primeira tentativa\n",
    "class Cachorro:\n",
    "    def __init__(self, nome):\n",
    "        self.nome = nome\n",
    "        self.patas = 4 # Atributo\n",
    "        \n",
    "    def __str__(self):\n",
    "        return f'Cachorro{(self.nome, self.patas)}'\n",
    "        \n",
    "# Note que cada instância da classe Cachorro pode ter um número diferente de patas\n",
    "C1 = Cachorro('Fifi')\n",
    "C2 = Cachorro('Firulais')\n",
    "print(C1,C2)\n",
    "# Se Fifi perder uma pata...\n",
    "C1.patas -= 1\n",
    "print(C1,C2)\n",
    "#Cada instância (objeto) da classe possui seu próprio atributo patas"
   ]
  },
  {
   "cell_type": "code",
   "execution_count": 2,
   "metadata": {},
   "outputs": [
    {
     "name": "stdout",
     "output_type": "stream",
     "text": [
      "Cachorro('Fifi', 4) Cachorro('Firulais', 4)\n",
      "Fifi\n",
      "4\n",
      "4\n",
      "Cachorro('Fifi', 5) Cachorro('Firulais', 5)\n",
      "Cachorro('Fifi', 6) Cachorro('Firulais', 5)\n",
      "6 5\n"
     ]
    }
   ],
   "source": [
    "# Mas... porque precisamos armazenar em cada instância o número de patas ? \n",
    "# O número de patas deveria ser uma atributo global da classe Cachorro \n",
    "# (compartilhado por todas as instâncias)\n",
    "\n",
    "class Cachorro:\n",
    "    patas =4 # Atributo da classe!\n",
    "    def __init__(self, nome):\n",
    "        self.nome = nome\n",
    "        \n",
    "    def __str__(self):\n",
    "        return f'Cachorro{(self.nome, self.patas)}'\n",
    "        \n",
    "\n",
    "C1 = Cachorro('Fifi')\n",
    "C2 = Cachorro('Firulais')\n",
    "print (C1,C2)\n",
    "# O nome do cachorro é um atributo da instância\n",
    "print(C1.nome)\n",
    "print(C1.patas)\n",
    "# Mas patas é um atributo da classe\n",
    "print (Cachorro.patas)\n",
    "# patas é um atributo compartilhado por todas as instâncias\n",
    "Cachorro.patas += 1 # cachorros mutando... com 5 patas\n",
    "print (C1,C2)\n",
    "C1.patas += 1 # Aqui Python cria um novo atributo da instância C1\n",
    "print (C1,C2)\n",
    "#C1 possui agora 2 atributos diferentes\n",
    "print(C1.patas, C1.__class__.patas)"
   ]
  },
  {
   "cell_type": "markdown",
   "metadata": {},
   "source": [
    "## Exemplo 2\n",
    "Suponha que queremos armazenar a quantidade de instâncias de uma classe como atributo desta classe. Como proceder?"
   ]
  },
  {
   "cell_type": "markdown",
   "metadata": {},
   "source": [
    "### Alterando posição de declaração atributo ```_quant``` e fazendo incremento com ```self._quant += 1``` no metodo ```__init__``` resolve o problema ???"
   ]
  },
  {
   "cell_type": "code",
   "execution_count": 3,
   "metadata": {},
   "outputs": [
    {
     "name": "stdout",
     "output_type": "stream",
     "text": [
      "0\n"
     ]
    }
   ],
   "source": [
    "class Pessoa:\n",
    "    _quant = 0 #atributo de classe\n",
    "    \n",
    "    def __init__(self, nome):\n",
    "        self.__nome = nome #atributo de instância\n",
    "        self._quant += 1\n",
    "        \n",
    "    @property\n",
    "    def nome(self):\n",
    "        return self.__nome\n",
    "    \n",
    "    @nome.setter\n",
    "    def nome(self, n):\n",
    "        self.__nome = n\n",
    "        \n",
    "if __name__ == \"__main__\":\n",
    "    p1 = Pessoa('Joao')\n",
    "    p2 = Pessoa('Maria')\n",
    "    p3 = Pessoa('Jose')\n",
    "    print(Pessoa._quant) #o prefixo é o nome da classe e não o objeto"
   ]
  },
  {
   "cell_type": "markdown",
   "metadata": {},
   "source": [
    " <br>\n",
    " <br>\n",
    " <br>\n",
    " <br>\n",
    " <br>\n",
    " <br>\n",
    " <br>\n",
    " <br>"
   ]
  },
  {
   "cell_type": "markdown",
   "metadata": {},
   "source": [
    "---------------"
   ]
  },
  {
   "cell_type": "code",
   "execution_count": 4,
   "metadata": {},
   "outputs": [
    {
     "name": "stdout",
     "output_type": "stream",
     "text": [
      "3\n"
     ]
    }
   ],
   "source": [
    "class Pessoa:\n",
    "    _quant = 0 #atributo de classe\n",
    "    \n",
    "    def __init__(self, nome):\n",
    "        self.__nome = nome #atributo de instância\n",
    "        Pessoa._quant += 1 #acesso ao atributo de classe\n",
    "        \n",
    "    @property\n",
    "    def nome(self):\n",
    "        return self.__nome\n",
    "    \n",
    "    @nome.setter\n",
    "    def nome(self, n):\n",
    "        self.__nome = n\n",
    "        \n",
    "if __name__ == \"__main__\":\n",
    "    p1 = Pessoa('Joao')\n",
    "    p2 = Pessoa('Maria')\n",
    "    p3 = Pessoa('Jose')\n",
    "    print(Pessoa._quant) #o prefixo é o nome da classe e não o objeto"
   ]
  },
  {
   "cell_type": "markdown",
   "metadata": {},
   "source": [
    "No exemplo acima, é interessante adicionar um método para encapsular o acesso ao atributo de classe `_quant`. Para isto, um método de classe (método estático) pode ser implementado.\n",
    "\n",
    "Em Python, um método de classe não possui o parâmetro `self`, afinal, ele não diz respeito a um objeto específico (por isso não precisa desta referência).\n",
    "\n",
    "O uso do decorador `@staticmethod` é uma boa prática por dois motivos:\n",
    "- Sinaliza que o método é de classe\n",
    "- Permite que o método seja chamado também a partir de uma instância\n",
    "\n",
    "Observe as modificações no código anterior com a implementação de um método estático para encapsular um atributo estático."
   ]
  },
  {
   "cell_type": "code",
   "execution_count": 5,
   "metadata": {},
   "outputs": [
    {
     "name": "stdout",
     "output_type": "stream",
     "text": [
      "3\n",
      "3\n"
     ]
    }
   ],
   "source": [
    "class Pessoa:\n",
    "    __quant = 0 #atributo de classe, agora com dois _\n",
    "    \n",
    "    def __init__(self, nome):\n",
    "        self.__nome = nome #atributo de instância\n",
    "        Pessoa.__quant += 1 #acesso ao atributo de classe: ok\n",
    "        \n",
    "    @property\n",
    "    def nome(self):\n",
    "        return self.__nome\n",
    "    \n",
    "    @nome.setter\n",
    "    def nome(self, n):\n",
    "        self.__nome = n\n",
    "        \n",
    "    @staticmethod\n",
    "    def num_instancias():\n",
    "        return Pessoa.__quant\n",
    "        \n",
    "if __name__ == \"__main__\":\n",
    "    p1 = Pessoa('Joao')\n",
    "    p2 = Pessoa('Maria')\n",
    "    p3 = Pessoa('Jose')\n",
    "    #print(Pessoa.__quant) #erro: atributo de classe é privado\n",
    "    print(Pessoa.num_instancias()) #ok: método de classe chamado\n",
    "    print(p1.num_instancias()) #ok: método de classe chamado a partir de uma instância"
   ]
  },
  {
   "cell_type": "markdown",
   "metadata": {},
   "source": [
    "\n",
    "## Exemplo 3\n",
    "## Pessoa - Funcionário - Gerente\n",
    "Note o uso de ```super```para acessar os membros da super classe \n"
   ]
  },
  {
   "cell_type": "code",
   "execution_count": 6,
   "metadata": {},
   "outputs": [
    {
     "name": "stdout",
     "output_type": "stream",
     "text": [
      "Nome: joao, CPF: 111222\n",
      "Método calcularSalario na classe Funcionario\n",
      "Nome: maria, CPF: 122323. Salario: 5000\n",
      "Método getNome na classe Pessoa\n",
      "Método calcularSalario na classe Funcionario\n",
      "('maria', 5000, 60)\n"
     ]
    }
   ],
   "source": [
    "from dateutil.relativedelta import relativedelta\n",
    "from datetime import date\n",
    "\n",
    "#Classe Base\n",
    "class Pessoa:\n",
    "    def __init__(self, nome, cpf, dn):\n",
    "        self._nome = nome\n",
    "        self._cpf = cpf\n",
    "        self._dn = dn # Data de nascimento\n",
    "        \n",
    "    def idade(self):\n",
    "        '''retorna a idade do paciente'''\n",
    "        return relativedelta(date.today(), self._dn).years\n",
    "\n",
    "    @property\n",
    "    def nome(self):\n",
    "        print('Método getNome na classe Pessoa')\n",
    "        return self._nome\n",
    "\n",
    "    @nome.setter\n",
    "    def nome(self, n):\n",
    "        self._nome = n\n",
    "\n",
    "    @property\n",
    "    def cpf(self):\n",
    "        return self._cpf\n",
    "\n",
    "    def __str__(self):\n",
    "        return 'Nome: {}, CPF: {}'.format(self._nome, self._cpf)\n",
    "\n",
    "# Um Funcionário é uma pessoa + um salário\n",
    "class Funcionario(Pessoa):\n",
    "    def __init__(self, nome, cpf, dn, salario):\n",
    "        # chamar o construtor da superclasse\n",
    "        super().__init__(nome, cpf,dn)\n",
    "        self.__salario = salario\n",
    "        \n",
    "    def calcularSalario(self):\n",
    "        print('Método calcularSalario na classe Funcionario')\n",
    "        return self.__salario\n",
    "\n",
    "    def __str__(self):\n",
    "        #Note a invocação do método __str__ da superclasse\n",
    "        return f'{super().__str__()}. Salario: {self.calcularSalario()}'\n",
    "\n",
    "\n",
    "p1 = Pessoa('joao', 111222, date(1970, 10, 10))\n",
    "print(p1)\n",
    "p2 = Funcionario('maria',122323, date(1960,12,12), 5000)\n",
    "print(p2)\n",
    "# Os métodos (incluíndo @property) da classe Pessoa estão disponíveis na classe Funcionário\n",
    "print((p2.nome, p2.calcularSalario(), p2.idade()))"
   ]
  },
  {
   "cell_type": "markdown",
   "metadata": {},
   "source": [
    "### E se quisermos ```p1.calcularSalario()```. Vai funcionar ou dar erro? Por quê?"
   ]
  },
  {
   "cell_type": "code",
   "execution_count": 7,
   "metadata": {},
   "outputs": [
    {
     "ename": "AttributeError",
     "evalue": "'Pessoa' object has no attribute 'calcularSalario'",
     "output_type": "error",
     "traceback": [
      "\u001b[0;31m---------------------------------------------------------------------------\u001b[0m",
      "\u001b[0;31mAttributeError\u001b[0m                            Traceback (most recent call last)",
      "\u001b[0;32m<ipython-input-7-cab4c1f87323>\u001b[0m in \u001b[0;36m<module>\u001b[0;34m\u001b[0m\n\u001b[0;32m----> 1\u001b[0;31m \u001b[0mprint\u001b[0m\u001b[0;34m(\u001b[0m\u001b[0mp1\u001b[0m\u001b[0;34m.\u001b[0m\u001b[0mcalcularSalario\u001b[0m\u001b[0;34m(\u001b[0m\u001b[0;34m)\u001b[0m\u001b[0;34m)\u001b[0m\u001b[0;34m\u001b[0m\u001b[0;34m\u001b[0m\u001b[0m\n\u001b[0m",
      "\u001b[0;31mAttributeError\u001b[0m: 'Pessoa' object has no attribute 'calcularSalario'"
     ]
    }
   ],
   "source": [
    "print(p1.calcularSalario())"
   ]
  },
  {
   "cell_type": "code",
   "execution_count": 8,
   "metadata": {},
   "outputs": [
    {
     "name": "stdout",
     "output_type": "stream",
     "text": [
      "Método calcularSalario da classe Gerente\n",
      "Método calcularSalario na classe Funcionario\n",
      "Nome: raul, CPF: 222. Salario: 1200\n",
      "Método calcularSalario da classe Gerente\n",
      "Método calcularSalario na classe Funcionario\n",
      "1200\n"
     ]
    }
   ],
   "source": [
    "# Um gerente é um funcionário que ganha, adicionalmente, um valor extra cada mês\n",
    "# Por tanto, o método calcularSalario deve ser reescrito \n",
    "class Gerente(Funcionario):\n",
    "    def __init__(self, nome, cpf, dn, salario, extra):\n",
    "        super().__init__(nome, cpf, dn, salario)\n",
    "        self.__extra = extra\n",
    "    @property\n",
    "    def extra(self):\n",
    "        return self.__extra\n",
    "    @extra.setter\n",
    "    def extra(self, v):\n",
    "        self.__extra = v\n",
    "        \n",
    "    #reescrever o método calcularSalario\n",
    "    def calcularSalario(self):\n",
    "        print('Método calcularSalario da classe Gerente')\n",
    "        #Note que também utilizamos o método calcularSalario da superclasse\n",
    "        return self.__extra + super().calcularSalario()\n",
    "    \n",
    "\n",
    "G = Gerente('raul','222',date(1980, 1,1), 1000,200)\n",
    "print(G) # Note que o método __str__ de funcionário é utilizado!!\n",
    "print(G.calcularSalario()) # Método salario da classe Gerente"
   ]
  },
  {
   "cell_type": "markdown",
   "metadata": {},
   "source": [
    "## Operador ```isinstance```\n",
    "\n",
    "- Python possui a função especial ```isinstance```:\n",
    "    - Sintaxe: ```isinstance(obj, classe)```: retorna\n",
    "      verdadeiro se ```obj``` for da classe ```classe```\n",
    "      ou falso caso contrário\n",
    "- Faz a mesma coisa que a função ```type```, com uma diferença: ```isinstance``` considera a hierarquia de classes. "
   ]
  },
  {
   "cell_type": "code",
   "execution_count": 9,
   "metadata": {},
   "outputs": [
    {
     "name": "stdout",
     "output_type": "stream",
     "text": [
      "True\n",
      "True\n",
      "False\n",
      "True\n",
      "Help on class object in module builtins:\n",
      "\n",
      "class object\n",
      " |  The base class of the class hierarchy.\n",
      " |  \n",
      " |  When called, it accepts no arguments and returns a new featureless\n",
      " |  instance that has no instance attributes and cannot be given any.\n",
      " |  \n",
      " |  Built-in subclasses:\n",
      " |      async_generator\n",
      " |      BaseException\n",
      " |      builtin_function_or_method\n",
      " |      bytearray\n",
      " |      ... and 93 other subclasses\n",
      " |  \n",
      " |  Methods defined here:\n",
      " |  \n",
      " |  __delattr__(self, name, /)\n",
      " |      Implement delattr(self, name).\n",
      " |  \n",
      " |  __dir__(self, /)\n",
      " |      Default dir() implementation.\n",
      " |  \n",
      " |  __eq__(self, value, /)\n",
      " |      Return self==value.\n",
      " |  \n",
      " |  __format__(self, format_spec, /)\n",
      " |      Default object formatter.\n",
      " |  \n",
      " |  __ge__(self, value, /)\n",
      " |      Return self>=value.\n",
      " |  \n",
      " |  __getattribute__(self, name, /)\n",
      " |      Return getattr(self, name).\n",
      " |  \n",
      " |  __gt__(self, value, /)\n",
      " |      Return self>value.\n",
      " |  \n",
      " |  __hash__(self, /)\n",
      " |      Return hash(self).\n",
      " |  \n",
      " |  __init__(self, /, *args, **kwargs)\n",
      " |      Initialize self.  See help(type(self)) for accurate signature.\n",
      " |  \n",
      " |  __le__(self, value, /)\n",
      " |      Return self<=value.\n",
      " |  \n",
      " |  __lt__(self, value, /)\n",
      " |      Return self<value.\n",
      " |  \n",
      " |  __ne__(self, value, /)\n",
      " |      Return self!=value.\n",
      " |  \n",
      " |  __reduce__(self, /)\n",
      " |      Helper for pickle.\n",
      " |  \n",
      " |  __reduce_ex__(self, protocol, /)\n",
      " |      Helper for pickle.\n",
      " |  \n",
      " |  __repr__(self, /)\n",
      " |      Return repr(self).\n",
      " |  \n",
      " |  __setattr__(self, name, value, /)\n",
      " |      Implement setattr(self, name, value).\n",
      " |  \n",
      " |  __sizeof__(self, /)\n",
      " |      Size of object in memory, in bytes.\n",
      " |  \n",
      " |  __str__(self, /)\n",
      " |      Return str(self).\n",
      " |  \n",
      " |  ----------------------------------------------------------------------\n",
      " |  Class methods defined here:\n",
      " |  \n",
      " |  __init_subclass__(...) from builtins.type\n",
      " |      This method is called when a class is subclassed.\n",
      " |      \n",
      " |      The default implementation does nothing. It may be\n",
      " |      overridden to extend subclasses.\n",
      " |  \n",
      " |  __subclasshook__(...) from builtins.type\n",
      " |      Abstract classes can override this to customize issubclass().\n",
      " |      \n",
      " |      This is invoked early on by abc.ABCMeta.__subclasscheck__().\n",
      " |      It should return True, False or NotImplemented.  If it returns\n",
      " |      NotImplemented, the normal algorithm is used.  Otherwise, it\n",
      " |      overrides the normal algorithm (and the outcome is cached).\n",
      " |  \n",
      " |  ----------------------------------------------------------------------\n",
      " |  Static methods defined here:\n",
      " |  \n",
      " |  __new__(*args, **kwargs) from builtins.type\n",
      " |      Create and return a new object.  See help(type) for accurate signature.\n",
      " |  \n",
      " |  ----------------------------------------------------------------------\n",
      " |  Data and other attributes defined here:\n",
      " |  \n",
      " |  __class__ = <class 'type'>\n",
      " |      type(object_or_name, bases, dict)\n",
      " |      type(object) -> the object's type\n",
      " |      type(name, bases, dict) -> a new type\n",
      "\n"
     ]
    }
   ],
   "source": [
    "# Um gerente é uma pessoa\n",
    "print(isinstance(G, Pessoa))\n",
    "# Um gerente é um funcionário\n",
    "print(isinstance(G, Funcionario))\n",
    "# Nem toda pessoa é um Funcionário\n",
    "print(isinstance(p1, Funcionario))\n",
    "# Em Python, toda classe herda da classe  object\n",
    "print(isinstance(p1, object))\n",
    "help(object)"
   ]
  },
  {
   "cell_type": "markdown",
   "metadata": {},
   "source": [
    "## Exercício\n",
    "\n",
    "Implemente um sistema para bancos com os requisitos a seguir:\n",
    "\n",
    "- Existem 2 tipos de contas: conta corrente e conta poupança\n",
    "- Para criar uma conta deve ser utilizado apenas o nome do usuário\n",
    "    - O número da conta deve ser gerado aleatoriamente (utilize método apresentado abaixo) e inserido em um dicionario protegido\n",
    "    - Cada número da conta deve ser único\n",
    "    - Um método estático deve retornar uma lista de contas a partir de um nome\n",
    "- Toda conta deve conter os métodos ```saque```, ```deposito``` e ```transferencia```\n",
    "- O método ```deposito``` pode ser realizado por uma instância ou estaticamente\n",
    "    - Para realizar deposito, devem ser usados os parâmetros: conta e valor\n",
    "- Uma conta poupança não pode ficar com saldo negativo\n",
    "- Uma conta poupança tem o método ```rende```, que aplica a taxa de 0.95% sobre o saldo da poupança\n",
    "- Todo saque em uma conta poupança tem uma taxa de R$2\n",
    "- Nenhum saque pode ser maior que o valor existente em conta\n",
    "- Apenas uma conta do tipo conta corrente pode fazer transferência pra qualquer outra conta\n",
    "    - Dois tipos de transferência são possiveis: pix e ted\n",
    "        - Parâmetros para transferência pix: nome do usuário e valor\n",
    "        - Parâmetros para transferência ted: número da conta e valor"
   ]
  },
  {
   "cell_type": "code",
   "execution_count": 10,
   "metadata": {},
   "outputs": [
    {
     "data": {
      "text/plain": [
       "893"
      ]
     },
     "execution_count": 10,
     "metadata": {},
     "output_type": "execute_result"
    }
   ],
   "source": [
    "import random\n",
    "\n",
    "# Gerador de numeros aleatorios entre 1 e 999\n",
    "random.randint(1, 999)  "
   ]
  },
  {
   "cell_type": "code",
   "execution_count": null,
   "metadata": {},
   "outputs": [],
   "source": []
  }
 ],
 "metadata": {
  "kernelspec": {
   "display_name": "Python 3",
   "language": "python",
   "name": "python3"
  },
  "language_info": {
   "codemirror_mode": {
    "name": "ipython",
    "version": 3
   },
   "file_extension": ".py",
   "mimetype": "text/x-python",
   "name": "python",
   "nbconvert_exporter": "python",
   "pygments_lexer": "ipython3",
   "version": "3.8.5"
  }
 },
 "nbformat": 4,
 "nbformat_minor": 4
}
