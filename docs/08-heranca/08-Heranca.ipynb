{
 "cells": [
  {
   "cell_type": "markdown",
   "metadata": {},
   "source": [
    "# Aula 8 - Atributos/métodos de Classe e Herança\n",
    "\n",
    "Neste documento é apresentado como se trabalhar em Python com:\n",
    "- Atributos/métodos de classe\n",
    "- Herança"
   ]
  },
  {
   "cell_type": "markdown",
   "metadata": {},
   "source": [
    "### Exemplo 1\n",
    "Considere a classe Cachorro que deve armazenar o nome do animal. Além disso, sabemos que todo cachorro tem 4 patas."
   ]
  },
  {
   "cell_type": "code",
   "execution_count": 1,
   "metadata": {},
   "outputs": [
    {
     "name": "stdout",
     "output_type": "stream",
     "text": [
      "Cachorro('Fifi', 4) Cachorro('Firulais', 4)\n",
      "Cachorro('Fifi', 3) Cachorro('Firulais', 4)\n"
     ]
    }
   ],
   "source": [
    "#Primeira tentativa\n",
    "class Cachorro:\n",
    "    def __init__(self, nome):\n",
    "        self.nome = nome\n",
    "        self.patas = 4 # Atributo\n",
    "        \n",
    "    def __str__(self):\n",
    "        return f'Cachorro{(self.nome, self.patas)}'\n",
    "        \n",
    "# Note que cada instância da classe Cachorro pode ter um número diferente de patas\n",
    "C1 = Cachorro('Fifi')\n",
    "C2 = Cachorro('Firulais')\n",
    "print(C1,C2)\n",
    "# Se Fifi perder uma pata...\n",
    "C1.patas -= 1\n",
    "print(C1,C2)\n",
    "#Cada instância (objeto) da classe possui seu próprio atributo patas"
   ]
  },
  {
   "cell_type": "code",
   "execution_count": 2,
   "metadata": {},
   "outputs": [
    {
     "ename": "AttributeError",
     "evalue": "type object 'Cachorro' has no attribute 'patas'",
     "output_type": "error",
     "traceback": [
      "\u001b[0;31m---------------------------------------------------------------------------\u001b[0m",
      "\u001b[0;31mAttributeError\u001b[0m                            Traceback (most recent call last)",
      "\u001b[0;32m<ipython-input-2-1923db3c1d15>\u001b[0m in \u001b[0;36m<module>\u001b[0;34m\u001b[0m\n\u001b[0;32m----> 1\u001b[0;31m \u001b[0mCachorro\u001b[0m\u001b[0;34m.\u001b[0m\u001b[0mpatas\u001b[0m \u001b[0;34m-=\u001b[0m \u001b[0;36m1\u001b[0m\u001b[0;34m\u001b[0m\u001b[0;34m\u001b[0m\u001b[0m\n\u001b[0m",
      "\u001b[0;31mAttributeError\u001b[0m: type object 'Cachorro' has no attribute 'patas'"
     ]
    }
   ],
   "source": [
    "Cachorro.patas -= 1"
   ]
  },
  {
   "cell_type": "code",
   "execution_count": 3,
   "metadata": {},
   "outputs": [
    {
     "name": "stdout",
     "output_type": "stream",
     "text": [
      "Cachorro('Fifi', 4) Cachorro('Firulais', 4)\n",
      "Fifi\n",
      "4\n",
      "4\n",
      "Cachorro('Fifi', 5) Cachorro('Firulais', 5)\n",
      "Cachorro('Fifi', 6) Cachorro('Firulais', 5)\n",
      "6 5\n"
     ]
    }
   ],
   "source": [
    "# Mas... porque precisamos armazenar em cada instância o número de patas ? \n",
    "# O número de patas deveria ser uma atributo global da classe Cachorro \n",
    "# (compartilhado por todas as instâncias)\n",
    "\n",
    "class Cachorro:\n",
    "    patas =4 # Atributo da classe!\n",
    "    def __init__(self, nome):\n",
    "        self.nome = nome\n",
    "        \n",
    "    def __str__(self):\n",
    "        return f'Cachorro{(self.nome, self.patas)}'\n",
    "        \n",
    "\n",
    "C1 = Cachorro('Fifi')\n",
    "C2 = Cachorro('Firulais')\n",
    "print (C1,C2)\n",
    "# O nome do cachorro é um atributo da instância\n",
    "print(C1.nome)\n",
    "print(C1.patas)\n",
    "# Mas patas é um atributo da classe\n",
    "print (Cachorro.patas)\n",
    "# patas é um atributo compartilhado por todas as instâncias\n",
    "Cachorro.patas += 1 # cachorros mutando... com 5 patas\n",
    "print (C1,C2)\n",
    "C1.patas += 1 # Aqui Python cria um novo atributo da instância C1\n",
    "print (C1,C2)\n",
    "#C1 possui agora 2 atributos diferentes\n",
    "print(C1.patas, C1.__class__.patas)"
   ]
  },
  {
   "cell_type": "code",
   "execution_count": 4,
   "metadata": {},
   "outputs": [],
   "source": [
    "class A:\n",
    "    tst = 123\n",
    "    \n",
    "    def __init__(self):\n",
    "        self.tst = 321\n",
    "        tst = 456\n",
    "    \n",
    "#a1 = A()\n",
    "\n",
    "#print(A.tst)\n",
    "\n",
    "#print(a1.tst)\n",
    "\n",
    "#print(a1.__class__.tst)\n",
    "\n",
    "#A.tst = 456\n",
    "\n",
    "#print(A.tst)"
   ]
  },
  {
   "cell_type": "markdown",
   "metadata": {},
   "source": [
    "## Exemplo 2\n",
    "Suponha que queremos armazenar a quantidade de instâncias de uma classe como atributo desta classe. Como proceder?"
   ]
  },
  {
   "cell_type": "markdown",
   "metadata": {},
   "source": [
    "### Alterando posição de declaração atributo ```_quant``` e fazendo incremento com ```self._quant += 1``` no metodo ```__init__``` resolve o problema ???"
   ]
  },
  {
   "cell_type": "code",
   "execution_count": 5,
   "metadata": {},
   "outputs": [
    {
     "name": "stdout",
     "output_type": "stream",
     "text": [
      "0\n",
      "1\n"
     ]
    }
   ],
   "source": [
    "class Pessoa:\n",
    "    _quant = 0 #atributo de classe\n",
    "    \n",
    "    def __init__(self, nome):\n",
    "        self.__nome = nome #atributo de instância\n",
    "        self._quant += 1\n",
    "        \n",
    "    @property\n",
    "    def nome(self):\n",
    "        return self.__nome\n",
    "    \n",
    "    @nome.setter\n",
    "    def nome(self, n):\n",
    "        self.__nome = n\n",
    "        \n",
    "if __name__ == \"__main__\":\n",
    "    p1 = Pessoa('Joao')\n",
    "    p2 = Pessoa('Maria')\n",
    "    p3 = Pessoa('Jose')\n",
    "    \n",
    "    print(Pessoa._quant) #o prefixo é o nome da classe e não o objeto\n",
    "    print(p1._quant)\n",
    "    #print(p2._quant)\n",
    "    #print(p3._quant)"
   ]
  },
  {
   "cell_type": "markdown",
   "metadata": {},
   "source": [
    " <br>\n",
    " <br>\n",
    " <br>\n",
    " <br>\n",
    " <br>\n",
    " <br>\n",
    " <br>\n",
    " <br>"
   ]
  },
  {
   "cell_type": "markdown",
   "metadata": {},
   "source": [
    "---------------"
   ]
  },
  {
   "cell_type": "code",
   "execution_count": 6,
   "metadata": {},
   "outputs": [
    {
     "name": "stdout",
     "output_type": "stream",
     "text": [
      "3\n"
     ]
    }
   ],
   "source": [
    "class Pessoa:\n",
    "    _quant = 0 #atributo de classe\n",
    "    \n",
    "    def __init__(self, nome):\n",
    "        self.__nome = nome #atributo de instância\n",
    "        Pessoa._quant += 1 #acesso ao atributo de classe\n",
    "        \n",
    "    @property\n",
    "    def nome(self):\n",
    "        return self.__nome\n",
    "    \n",
    "    @nome.setter\n",
    "    def nome(self, n):\n",
    "        self.__nome = n\n",
    "        \n",
    "if __name__ == \"__main__\":\n",
    "    p1 = Pessoa('Joao')\n",
    "    p2 = Pessoa('Maria')\n",
    "    p3 = Pessoa('Jose')\n",
    "    print(Pessoa._quant) #o prefixo é o nome da classe e não o objeto\n",
    "    #print(p1._quant)\n",
    "    #print(p2._quant)\n",
    "    #print(p3._quant)"
   ]
  },
  {
   "cell_type": "markdown",
   "metadata": {},
   "source": [
    "No exemplo acima, é interessante adicionar um método para encapsular o acesso ao atributo de classe `_quant`. Para isto, um método de classe (método estático) pode ser implementado.\n",
    "\n",
    "Em Python, um método de classe não possui o parâmetro `self`, afinal, ele não diz respeito a um objeto específico (por isso não precisa desta referência).\n",
    "\n",
    "O uso do decorador `@staticmethod` é uma boa prática por dois motivos:\n",
    "- Sinaliza que o método é de classe\n",
    "- Permite que o método seja chamado também a partir de uma instância\n",
    "\n",
    "Observe as modificações no código anterior com a implementação de um método estático para encapsular um atributo estático."
   ]
  },
  {
   "cell_type": "code",
   "execution_count": 7,
   "metadata": {},
   "outputs": [
    {
     "name": "stdout",
     "output_type": "stream",
     "text": [
      "3\n",
      "3\n"
     ]
    }
   ],
   "source": [
    "class Pessoa:\n",
    "    __quant = 0 #atributo de classe, agora com dois _\n",
    "    \n",
    "    def __init__(self, nome):\n",
    "        self.__nome = nome #atributo de instância\n",
    "        Pessoa.__quant += 1 #acesso ao atributo de classe: ok\n",
    "        \n",
    "    @property\n",
    "    def nome(self):\n",
    "        return self.__nome\n",
    "    \n",
    "    @nome.setter\n",
    "    def nome(self, n):\n",
    "        self.__nome = n\n",
    "        \n",
    "    @staticmethod\n",
    "    def num_instancias():\n",
    "        return Pessoa.__quant\n",
    "        \n",
    "if __name__ == \"__main__\":\n",
    "    p1 = Pessoa('Joao')\n",
    "    p2 = Pessoa('Maria')\n",
    "    p3 = Pessoa('Jose')\n",
    "    #print(Pessoa.__quant) #erro: atributo de classe é privado\n",
    "    print(Pessoa.num_instancias()) #ok: método de classe chamado\n",
    "    print(p1.num_instancias()) #ok: método de classe chamado a partir de uma instância"
   ]
  },
  {
   "cell_type": "markdown",
   "metadata": {},
   "source": [
    "## Exemplo 3 - Herança"
   ]
  },
  {
   "cell_type": "code",
   "execution_count": 8,
   "metadata": {},
   "outputs": [
    {
     "name": "stdout",
     "output_type": "stream",
     "text": [
      "Falando...\n",
      "Falando...\n"
     ]
    }
   ],
   "source": [
    "class Pessoa:\n",
    "    #Atributo de classe vai influenciar para todos, logo não dará certo fazer assim\n",
    "    #__nomeClasse = ''\n",
    "    def __init__(self, nome, idade):\n",
    "        self.nome = nome\n",
    "        self.idade = idade\n",
    "        #Cada instância deve ter sua própria class name\n",
    "        #self.__nomeClasse = self.__class__.__name__\n",
    "        \n",
    "    def falar(self):\n",
    "        print('Falando...')\n",
    "        #print(f'{self.__nomeClasse} está falando...')\n",
    "        \n",
    "        \n",
    "class Aluno(Pessoa):\n",
    "    pass\n",
    "    #def estudar(self):\n",
    "        #print(f'Aluno está estudando...')\n",
    "        #print(f'{self.nomeClasse} está estudando...')\n",
    "        \n",
    "        \n",
    "class Cliente(Pessoa):\n",
    "    pass\n",
    "#     def comprar(self):\n",
    "#         print(f'{self.nomeClasse} está comprando...')\n",
    "\n",
    "\n",
    "p1 = Pessoa('Claudio', 44)\n",
    "a1 = Aluno('Pedro', 53)\n",
    "#c1 = Cliente('José', 15)\n",
    "\n",
    "p1.falar()\n",
    "\n",
    "a1.falar()\n",
    "#a1.estudar()\n",
    "\n",
    "#c1.falar()\n",
    "#c1.comprar()\n",
    "\n",
    "#p1.estudar()\n",
    "#p1.comprar()"
   ]
  },
  {
   "cell_type": "markdown",
   "metadata": {},
   "source": [
    "## Pessoa - Funcionário - Gerente"
   ]
  },
  {
   "cell_type": "code",
   "execution_count": 9,
   "metadata": {},
   "outputs": [
    {
     "name": "stdout",
     "output_type": "stream",
     "text": [
      "Nome: joao, CPF: 111222\n",
      "Método calcularSalario na classe Funcionário\n",
      "Nome: maria, CPF: 122323. Salario: 5000\n",
      "Método getNome na classe Pessoa\n",
      "Método calcularSalario na classe Funcionário\n",
      "('maria', 5000, 60)\n"
     ]
    }
   ],
   "source": [
    "from dateutil.relativedelta import relativedelta\n",
    "from datetime import date\n",
    "\n",
    "#Classe Base\n",
    "class Pessoa:\n",
    "    def __init__(self, nome, cpf, dn):\n",
    "        self._nome = nome\n",
    "        self._cpf = cpf\n",
    "        self._dn = dn # Data de nascimento\n",
    "        \n",
    "    def idade(self):\n",
    "        '''retorna a idade do paciente'''\n",
    "        return relativedelta(date.today(), self._dn).years\n",
    "\n",
    "    @property\n",
    "    def nome(self):\n",
    "        print('Método getNome na classe Pessoa')\n",
    "        return self._nome\n",
    "\n",
    "    @nome.setter\n",
    "    def nome(self, n):\n",
    "        self._nome = n\n",
    "\n",
    "    @property\n",
    "    def cpf(self):\n",
    "        return self._cpf\n",
    "\n",
    "    def __str__(self):\n",
    "        return 'Nome: {}, CPF: {}'.format(self._nome, self._cpf)\n",
    "\n",
    "# Um Funcionário é uma pessoa + um salário\n",
    "class Funcionario(Pessoa):\n",
    "    def __init__(self, nome, cpf, dn, salario):\n",
    "        # Note o uso de 'super' para acessar os membros da super classe \n",
    "        # chamar o construtor da superclasse\n",
    "        super().__init__(nome, cpf,dn)\n",
    "        self.__salario = salario\n",
    "        \n",
    "    def calcularSalario(self):\n",
    "        print('Método calcularSalario na classe Funcionário')\n",
    "        return self.__salario\n",
    "\n",
    "    def __str__(self):\n",
    "        #Note a invocação do método __str__ da superclasse\n",
    "        return f'{super().__str__()}. Salario: {self.calcularSalario()}'\n",
    "\n",
    "\n",
    "p1 = Pessoa('joao', 111222, date(1970, 10, 10))\n",
    "print(p1)\n",
    "p2 = Funcionario('maria',122323, date(1960,12,12), 5000)\n",
    "print(p2)\n",
    "# Os métodos (incluíndo @property) da classe Pessoa estão disponíveis na classe Funcionário\n",
    "print((p2.nome, p2.calcularSalario(), p2.idade()))"
   ]
  },
  {
   "cell_type": "markdown",
   "metadata": {},
   "source": [
    "### E se quisermos ```p1.calcularSalario()```. Vai funcionar ou dar erro? Por quê?"
   ]
  },
  {
   "cell_type": "code",
   "execution_count": 10,
   "metadata": {},
   "outputs": [
    {
     "ename": "AttributeError",
     "evalue": "'Pessoa' object has no attribute 'calcularSalario'",
     "output_type": "error",
     "traceback": [
      "\u001b[0;31m---------------------------------------------------------------------------\u001b[0m",
      "\u001b[0;31mAttributeError\u001b[0m                            Traceback (most recent call last)",
      "\u001b[0;32m<ipython-input-10-cab4c1f87323>\u001b[0m in \u001b[0;36m<module>\u001b[0;34m\u001b[0m\n\u001b[0;32m----> 1\u001b[0;31m \u001b[0mprint\u001b[0m\u001b[0;34m(\u001b[0m\u001b[0mp1\u001b[0m\u001b[0;34m.\u001b[0m\u001b[0mcalcularSalario\u001b[0m\u001b[0;34m(\u001b[0m\u001b[0;34m)\u001b[0m\u001b[0;34m)\u001b[0m\u001b[0;34m\u001b[0m\u001b[0;34m\u001b[0m\u001b[0m\n\u001b[0m",
      "\u001b[0;31mAttributeError\u001b[0m: 'Pessoa' object has no attribute 'calcularSalario'"
     ]
    }
   ],
   "source": [
    "print(p1.calcularSalario())"
   ]
  },
  {
   "cell_type": "code",
   "execution_count": 11,
   "metadata": {},
   "outputs": [
    {
     "name": "stdout",
     "output_type": "stream",
     "text": [
      "Método calcularSalario da classe Gerente\n",
      "Método calcularSalario na classe Funcionário\n",
      "Nome: raul, CPF: 222. Salario: 1200\n",
      "Método calcularSalario da classe Gerente\n",
      "Método calcularSalario na classe Funcionário\n",
      "1200\n"
     ]
    }
   ],
   "source": [
    "# Um gerente é um funcionário que ganha, adicionalmente, um valor extra cada mês\n",
    "# Por tanto, o método calcularSalario deve ser reescrito \n",
    "class Gerente(Funcionario):\n",
    "    def __init__(self, nome, cpf, dn, salario, extra):\n",
    "        super().__init__(nome, cpf, dn, salario)\n",
    "        self.__extra = extra\n",
    "    @property\n",
    "    def extra(self):\n",
    "        return self.__extra\n",
    "    @extra.setter\n",
    "    def extra(self, v):\n",
    "        self.__extra = v\n",
    "        \n",
    "    #reescrever o método calcularSalario\n",
    "    def calcularSalario(self):\n",
    "        print('Método calcularSalario da classe Gerente')\n",
    "        #Note que também utilizamos o método calcularSalario da superclasse\n",
    "        return self.__extra + super().calcularSalario()\n",
    "    \n",
    "\n",
    "G = Gerente('raul','222',date(1980, 1,1), 1000,200)\n",
    "print(G) # Note que o método __str__ de funcionário é utilizado!!\n",
    "print(G.calcularSalario()) # Método salario da classe Gerente"
   ]
  },
  {
   "cell_type": "markdown",
   "metadata": {},
   "source": [
    "## Operador ```isinstance```\n",
    "\n",
    "- Python possui a função especial ```isinstance```:\n",
    "    - Sintaxe: ```isinstance(obj, classe)```: retorna\n",
    "      verdadeiro se ```obj``` for da classe ```classe```\n",
    "      ou falso caso contrário\n",
    "- Faz a mesma coisa que a função ```type```, com uma diferença: ```isinstance``` considera a hierarquia de classes. "
   ]
  },
  {
   "cell_type": "code",
   "execution_count": 12,
   "metadata": {},
   "outputs": [
    {
     "name": "stdout",
     "output_type": "stream",
     "text": [
      "True\n",
      "True\n",
      "False\n",
      "True\n"
     ]
    }
   ],
   "source": [
    "# Um gerente é uma pessoa\n",
    "print(isinstance(G, Pessoa))\n",
    "# Um gerente é um funcionário\n",
    "print(isinstance(G, Funcionario))\n",
    "# Nem toda pessoa é um Funcionário\n",
    "print(isinstance(p1, Funcionario))\n",
    "# Em Python, toda classe herda da classe  object\n",
    "print(isinstance(p1, object))"
   ]
  },
  {
   "cell_type": "markdown",
   "metadata": {},
   "source": [
    "## Exercício\n",
    "\n",
    "Implemente um sistema para bancos com os requisitos a seguir:\n",
    "\n",
    "- Existem 2 tipos de contas: conta corrente e conta poupança\n",
    "- Para criar uma conta deve ser utilizado apenas o nome do usuário\n",
    "    - O número da conta deve ser gerado aleatoriamente (utilize método apresentado abaixo) e inserido em um dicionario protegido\n",
    "    - Cada número da conta deve ser único\n",
    "    - Um método estático deve retornar uma lista de contas a partir de um nome\n",
    "- Toda conta deve conter os métodos ```saque```, ```deposito``` e ```transferencia```\n",
    "    - Apenas uma conta do tipo conta corrente pode fazer transferência pra qualquer outra conta\n",
    "        - Parâmetros para transferência: conta e valor\n",
    "- Uma conta poupança não pode ficar com saldo negativo\n",
    "- Uma conta poupança tem o método ```rende```, que aplica a taxa de 0.95% sobre o saldo da poupança\n",
    "- Todo saque em uma conta poupança tem uma taxa de R$2\n",
    "- Nenhum saque pode ser maior que o valor existente em conta"
   ]
  },
  {
   "cell_type": "code",
   "execution_count": 13,
   "metadata": {},
   "outputs": [
    {
     "data": {
      "text/plain": [
       "298"
      ]
     },
     "execution_count": 13,
     "metadata": {},
     "output_type": "execute_result"
    }
   ],
   "source": [
    "import random\n",
    "\n",
    "# Gerador de numeros aleatorios entre 1 e 999\n",
    "random.randint(1, 999)  "
   ]
  },
  {
   "cell_type": "code",
   "execution_count": 20,
   "metadata": {},
   "outputs": [
    {
     "name": "stdout",
     "output_type": "stream",
     "text": [
      "Listas de contas do usuário Mario: [599]\n",
      "Listas de contas do usuário Jose: [315, 542]\n",
      "Pedro não possui contas\n",
      "Usuario: Jose - Conta: 542 - Valor: $0\n",
      "Usuario: Jose - Conta: 542 - Valor: $819.714\n",
      "Usuario: Mario - Conta: 599 - Valor: $812\n",
      "Valor não pode ser maior do que o contido em conta\n",
      "Valor não pode ser maior do que o contido em conta\n",
      "Usuario: Mario - Conta: 599 - Valor: $12\n",
      "Usuario: Jose - Conta: 542 - Valor: $4.2140000000000555\n",
      "Conta poupança não pode fazer transferências\n",
      "Transferencia realizada com sucesso\n"
     ]
    }
   ],
   "source": [
    "if __name__ == \"__main__\":\n",
    "    c1 = Corrente('Mario')\n",
    "    c2 = Corrente('Jose')\n",
    "    c3 = Poupanca('Jose')\n",
    "    Conta.contas_do_usuario('Mario')\n",
    "    Conta.contas_do_usuario('Jose')\n",
    "    Conta.contas_do_usuario('Pedro')\n",
    "    print(c3)\n",
    "    c3.deposito(812)\n",
    "    c1.deposito(812)\n",
    "    print(c3)\n",
    "    print(c1)\n",
    "    c3.saque(818)\n",
    "    c1.saque(813)\n",
    "    c1.saque(800)\n",
    "    print(c1)\n",
    "    c3.saque(817.5)\n",
    "    print(c3)\n",
    "    c3.transferencia(540, c1)\n",
    "    c1.transferencia(4, c2)"
   ]
  },
  {
   "cell_type": "code",
   "execution_count": null,
   "metadata": {},
   "outputs": [],
   "source": []
  }
 ],
 "metadata": {
  "kernelspec": {
   "display_name": "Python 3",
   "language": "python",
   "name": "python3"
  },
  "language_info": {
   "codemirror_mode": {
    "name": "ipython",
    "version": 3
   },
   "file_extension": ".py",
   "mimetype": "text/x-python",
   "name": "python",
   "nbconvert_exporter": "python",
   "pygments_lexer": "ipython3",
   "version": "3.8.5"
  }
 },
 "nbformat": 4,
 "nbformat_minor": 4
}
